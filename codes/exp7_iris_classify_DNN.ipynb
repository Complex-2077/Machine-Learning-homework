{
 "cells": [
  {
   "cell_type": "code",
   "execution_count": 13,
   "outputs": [
    {
     "name": "stdout",
     "output_type": "stream",
     "text": [
      "[0.98 0.96 0.96]\n",
      "the average accuracy is 0.967\n"
     ]
    }
   ],
   "source": [
    "from sklearn import datasets\n",
    "from sklearn.model_selection import train_test_split, cross_val_score\n",
    "from sklearn.pipeline import Pipeline\n",
    "from sklearn.preprocessing import StandardScaler\n",
    "from sklearn.neural_network import MLPClassifier\n",
    "\n",
    "if __name__ == '__main__':\n",
    "    iris=datasets.load_iris()\n",
    "    X = iris.data  #1798个数字样本\n",
    "    y = iris.target #标签，0-9\n",
    "    pipeline = Pipeline([\n",
    "        ('ss', StandardScaler()),\n",
    "        ('mlp', MLPClassifier(hidden_layer_sizes=(300,150, 100,50), alpha=0.1, max_iter=300, random_state=20)) # 第一层150个神经元，第二层100个\n",
    "    ])\n",
    "    accuracies = cross_val_score(pipeline, X, y, cv=3, n_jobs=-1) #default, use the default 5-fold cross validation，用cv指定fold-number\n",
    "    print(accuracies)\n",
    "    print('the average accuracy is {}'.format(round(accuracies.mean(),3)))\n"
   ],
   "metadata": {
    "collapsed": false,
    "pycharm": {
     "name": "#%%\n"
    }
   }
  }
 ],
 "metadata": {
  "kernelspec": {
   "display_name": "Python 3",
   "language": "python",
   "name": "python3"
  },
  "language_info": {
   "codemirror_mode": {
    "name": "ipython",
    "version": 2
   },
   "file_extension": ".py",
   "mimetype": "text/x-python",
   "name": "python",
   "nbconvert_exporter": "python",
   "pygments_lexer": "ipython2",
   "version": "2.7.6"
  }
 },
 "nbformat": 4,
 "nbformat_minor": 0
}