{
 "cells": [
  {
   "cell_type": "code",
   "execution_count": 4,
   "metadata": {
    "collapsed": true
   },
   "outputs": [],
   "source": [
    "import csv\n",
    "\n",
    "transformer_dict = {'No':0, 'Yes':1}\n",
    "city_dict = {}\n",
    "def getDataSet(file_path,size = 10000):\n",
    "    y = []\n",
    "    with open(file_path) as file_obj:\n",
    "        reader = csv.reader(file_obj)\n",
    "        x = list(reader)\n",
    "    x.pop(0)\n",
    "    x = x[-size:]\n",
    "    x_temp = []\n",
    "    for i in range(len(x)):\n",
    "        if x[i][-1] != 'NA' and x[i][-2] !='NA':\n",
    "            x_temp.append(x[i])\n",
    "\n",
    "    x = x_temp\n",
    "    for line in x:\n",
    "        y.append(transformer_dict [line.pop(-1)])\n",
    "        # 处理第一列 日期\n",
    "        line[0] = ''.join(line[0].split('-'))\n",
    "        # 处理城市\n",
    "        location = line[1]\n",
    "        city_dict.setdefault(location,len(city_dict)+1)\n",
    "        line[1] = city_dict[location]\n",
    "        # 删掉 5、6、7\n",
    "        for i in range(3):\n",
    "            line.pop(5)\n",
    "        # 删掉9、10\n",
    "        for i in range(2):\n",
    "            line.pop(6)\n",
    "        # 删掉倒数第四列\n",
    "        line.pop(-4)\n",
    "        line[-1] = transformer_dict[line[-1]]\n",
    "        for i in range(len(line)):\n",
    "            if line[i] == 'NA':\n",
    "                line[i] = 0\n",
    "\n",
    "    return x,y"
   ]
  },
  {
   "cell_type": "code",
   "execution_count": 5,
   "outputs": [],
   "source": [
    "filename='weatherAUS.csv'\n",
    "x, y = getDataSet(filename,5000)"
   ],
   "metadata": {
    "collapsed": false,
    "pycharm": {
     "name": "#%%\n"
    }
   }
  },
  {
   "cell_type": "code",
   "execution_count": 6,
   "outputs": [
    {
     "name": "stdout",
     "output_type": "stream",
     "text": [
      "[['20151024', 1, '5', '20.3', '0', '31', '2', '13', '74', '43', 0, 0, '8', '13.3', '19.1', 0], ['20151025', 1, '8.1', '20.4', '0', '31', '11', '19', '75', '55', 0, 0, '7', '13.1', '19.1', 0], ['20151026', 1, '10.9', '17.8', '0.6', '69', '33', '30', '75', '32', 0, 0, '8', '12.4', '16.9', 0], ['20151027', 1, '2.5', '19', '0', '31', '2', '19', '56', '36', 0, 0, 0, '10.1', '18', 0], ['20151028', 1, '3.9', '20.8', '0', '30', '2', '19', '71', '40', 0, 0, 0, '12.1', '20.1', 0], ['20151029', 1, '7.3', '21.7', '0', '31', '2', '17', '71', '40', 0, 0, '4', '13.5', '20.7', 0], ['20151030', 1, '7.4', '22.9', '0', '30', '6', '13', '65', '35', 0, 0, 0, '16.1', '21.6', 0], ['20151031', 1, '10', '20.3', '0', '31', '7', '11', '67', '68', 0, 0, '8', '16.7', '20', 0], ['20151101', 1, '14.1', '20.6', '0.4', '52', '6', '30', '91', '72', 0, 0, '8', '17.5', '18.1', 0], ['20151102', 1, '11.7', '17.6', '0', '48', '4', '22', '72', '47', 0, 0, '8', '16.2', '15.3', 0]]\n",
      "[0, 0, 0, 0, 0, 0, 0, 0, 0, 1]\n",
      "9870\n",
      "9870\n"
     ]
    }
   ],
   "source": [
    "print(x[:10])\n",
    "print(y[:10])\n",
    "\n",
    "print((len(x)))\n",
    "print(len(y))"
   ],
   "metadata": {
    "collapsed": false,
    "pycharm": {
     "name": "#%%\n"
    }
   }
  },
  {
   "cell_type": "code",
   "execution_count": 7,
   "outputs": [],
   "source": [
    "import numpy as np\n",
    "\n",
    "def my_train_test_split(data:list, label:list, train_size_rate=0.7):\n",
    "    length = len(data)\n",
    "    separate_line = int(train_size_rate*length)\n",
    "\n",
    "    data = np.array(data).astype(dtype='float32')\n",
    "    label = np.array(label).astype(dtype='int64')\n",
    "\n",
    "    x_train = data[:separate_line]\n",
    "    x_test = data[separate_line:]\n",
    "    y_train = label[:separate_line]\n",
    "    y_test = label[separate_line:]\n",
    "    return x_train, y_train, x_test,y_test\n",
    "\n"
   ],
   "metadata": {
    "collapsed": false,
    "pycharm": {
     "name": "#%%\n"
    }
   }
  },
  {
   "cell_type": "code",
   "execution_count": 8,
   "outputs": [],
   "source": [
    "x_train, y_train, x_test,y_test = my_train_test_split(x,y)\n"
   ],
   "metadata": {
    "collapsed": false,
    "pycharm": {
     "name": "#%%\n"
    }
   }
  },
  {
   "cell_type": "code",
   "execution_count": 10,
   "outputs": [
    {
     "name": "stdout",
     "output_type": "stream",
     "text": [
      "Fitting 2 folds for each of 30 candidates, totalling 60 fits\n",
      "Best score: 0.820\n",
      "Best parameters set:\n",
      "\tclf__C: 0.1\n",
      "\tclf__gamma: 0.01\n",
      "              precision    recall  f1-score   support\n",
      "\n",
      "           0       0.88      1.00      0.94      2603\n",
      "           1       0.00      0.00      0.00       358\n",
      "\n",
      "    accuracy                           0.88      2961\n",
      "   macro avg       0.44      0.50      0.47      2961\n",
      "weighted avg       0.77      0.88      0.82      2961\n",
      "\n"
     ]
    },
    {
     "name": "stderr",
     "output_type": "stream",
     "text": [
      "d:\\python\\lib\\site-packages\\sklearn\\metrics\\_classification.py:1344: UndefinedMetricWarning: Precision and F-score are ill-defined and being set to 0.0 in labels with no predicted samples. Use `zero_division` parameter to control this behavior.\n",
      "  _warn_prf(average, modifier, msg_start, len(result))\n",
      "d:\\python\\lib\\site-packages\\sklearn\\metrics\\_classification.py:1344: UndefinedMetricWarning: Precision and F-score are ill-defined and being set to 0.0 in labels with no predicted samples. Use `zero_division` parameter to control this behavior.\n",
      "  _warn_prf(average, modifier, msg_start, len(result))\n",
      "d:\\python\\lib\\site-packages\\sklearn\\metrics\\_classification.py:1344: UndefinedMetricWarning: Precision and F-score are ill-defined and being set to 0.0 in labels with no predicted samples. Use `zero_division` parameter to control this behavior.\n",
      "  _warn_prf(average, modifier, msg_start, len(result))\n"
     ]
    }
   ],
   "source": [
    "from sklearn.pipeline import Pipeline\n",
    "from sklearn.svm import SVC\n",
    "from sklearn.model_selection import GridSearchCV\n",
    "from sklearn.metrics import classification_report\n",
    "\n",
    "pipeline = Pipeline([\n",
    "    ('clf', SVC(kernel='rbf', gamma=0.01, C=100))\n",
    "])\n",
    "parameters = {\n",
    "    'clf__gamma': (0.01, 0.03, 0.1, 0.3, 1),\n",
    "    'clf__C': (0.1, 0.3, 1, 3, 10, 30),\n",
    "}\n",
    "\n",
    "grid_search = GridSearchCV(pipeline, parameters, n_jobs=3, cv=2,verbose=1, scoring='accuracy')\n",
    "grid_search.fit(x_train, y_train)\n",
    "print('Best score: %0.3f' % grid_search.best_score_)\n",
    "print('Best parameters set:')\n",
    "best_parameters = grid_search.best_estimator_.get_params()\n",
    "for param_name in sorted(parameters.keys()):\n",
    "    print('\\t%s: %r' % (param_name, best_parameters[param_name]))\n",
    "predictions = grid_search.predict(x_test)\n",
    "print(classification_report(y_test, predictions))"
   ],
   "metadata": {
    "collapsed": false,
    "pycharm": {
     "name": "#%%\n"
    }
   }
  },
  {
   "cell_type": "code",
   "execution_count": 11,
   "outputs": [
    {
     "name": "stdout",
     "output_type": "stream",
     "text": [
      "accuracy is : 0.8790949003714961\n"
     ]
    }
   ],
   "source": [
    "from sklearn.metrics import accuracy_score\n",
    "print('accuracy is : {}'.format(accuracy_score(y_test, predictions)))\n"
   ],
   "metadata": {
    "collapsed": false,
    "pycharm": {
     "name": "#%%\n"
    }
   }
  }
 ],
 "metadata": {
  "kernelspec": {
   "display_name": "Python 3",
   "language": "python",
   "name": "python3"
  },
  "language_info": {
   "codemirror_mode": {
    "name": "ipython",
    "version": 2
   },
   "file_extension": ".py",
   "mimetype": "text/x-python",
   "name": "python",
   "nbconvert_exporter": "python",
   "pygments_lexer": "ipython2",
   "version": "2.7.6"
  }
 },
 "nbformat": 4,
 "nbformat_minor": 0
}